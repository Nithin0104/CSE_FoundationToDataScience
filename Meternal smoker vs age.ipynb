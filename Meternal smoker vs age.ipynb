{
 "cells": [
  {
   "cell_type": "code",
   "execution_count": 1,
   "id": "020515ce",
   "metadata": {},
   "outputs": [],
   "source": [
    "from datascience import *\n",
    "%matplotlib inline\n",
    "import matplotlib.pyplot as plots\n",
    "import numpy as np\n",
    "import pandas as pd"
   ]
  },
  {
   "cell_type": "code",
   "execution_count": 9,
   "id": "abe58066",
   "metadata": {},
   "outputs": [
    {
     "data": {
      "text/html": [
       "<table border=\"1\" class=\"dataframe\">\n",
       "    <thead>\n",
       "        <tr>\n",
       "            <th>Unnamed: 0</th> <th>Birth Weight</th> <th>Gestational Days</th> <th>Maternal Age</th> <th>Maternal Height</th> <th>Maternal Pregnancy Weight</th> <th>Maternal Smoker</th>\n",
       "        </tr>\n",
       "    </thead>\n",
       "    <tbody>\n",
       "        <tr>\n",
       "            <td>0         </td> <td>120         </td> <td>284             </td> <td>27          </td> <td>62             </td> <td>100                      </td> <td>False          </td>\n",
       "        </tr>\n",
       "        <tr>\n",
       "            <td>1         </td> <td>113         </td> <td>282             </td> <td>33          </td> <td>64             </td> <td>135                      </td> <td>False          </td>\n",
       "        </tr>\n",
       "        <tr>\n",
       "            <td>2         </td> <td>128         </td> <td>279             </td> <td>28          </td> <td>64             </td> <td>115                      </td> <td>True           </td>\n",
       "        </tr>\n",
       "        <tr>\n",
       "            <td>3         </td> <td>108         </td> <td>282             </td> <td>23          </td> <td>67             </td> <td>125                      </td> <td>True           </td>\n",
       "        </tr>\n",
       "        <tr>\n",
       "            <td>4         </td> <td>136         </td> <td>286             </td> <td>25          </td> <td>62             </td> <td>93                       </td> <td>False          </td>\n",
       "        </tr>\n",
       "        <tr>\n",
       "            <td>5         </td> <td>138         </td> <td>244             </td> <td>33          </td> <td>62             </td> <td>178                      </td> <td>False          </td>\n",
       "        </tr>\n",
       "        <tr>\n",
       "            <td>6         </td> <td>132         </td> <td>245             </td> <td>23          </td> <td>65             </td> <td>140                      </td> <td>False          </td>\n",
       "        </tr>\n",
       "        <tr>\n",
       "            <td>7         </td> <td>120         </td> <td>289             </td> <td>25          </td> <td>62             </td> <td>125                      </td> <td>False          </td>\n",
       "        </tr>\n",
       "        <tr>\n",
       "            <td>8         </td> <td>143         </td> <td>299             </td> <td>30          </td> <td>66             </td> <td>136                      </td> <td>True           </td>\n",
       "        </tr>\n",
       "        <tr>\n",
       "            <td>9         </td> <td>140         </td> <td>351             </td> <td>27          </td> <td>68             </td> <td>120                      </td> <td>False          </td>\n",
       "        </tr>\n",
       "    </tbody>\n",
       "</table>\n",
       "<p>... (1164 rows omitted)</p>"
      ],
      "text/plain": [
       "Unnamed: 0 | Birth Weight | Gestational Days | Maternal Age | Maternal Height | Maternal Pregnancy Weight | Maternal Smoker\n",
       "0          | 120          | 284              | 27           | 62              | 100                       | False\n",
       "1          | 113          | 282              | 33           | 64              | 135                       | False\n",
       "2          | 128          | 279              | 28           | 64              | 115                       | True\n",
       "3          | 108          | 282              | 23           | 67              | 125                       | True\n",
       "4          | 136          | 286              | 25           | 62              | 93                        | False\n",
       "5          | 138          | 244              | 33           | 62              | 178                       | False\n",
       "6          | 132          | 245              | 23           | 65              | 140                       | False\n",
       "7          | 120          | 289              | 25           | 62              | 125                       | False\n",
       "8          | 143          | 299              | 30           | 66              | 136                       | True\n",
       "9          | 140          | 351              | 27           | 68              | 120                       | False\n",
       "... (1164 rows omitted)"
      ]
     },
     "execution_count": 9,
     "metadata": {},
     "output_type": "execute_result"
    }
   ],
   "source": [
    "baby = Table.read_table('test.csv')\n",
    "baby"
   ]
  },
  {
   "cell_type": "markdown",
   "id": "5ebc709a",
   "metadata": {},
   "source": [
    "Question 1"
   ]
  },
  {
   "cell_type": "code",
   "execution_count": 10,
   "id": "d3322781",
   "metadata": {
    "scrolled": false
   },
   "outputs": [
    {
     "data": {
      "image/png": "[encoded data removed]",
      "text/plain": [
       "<Figure size 432x288 with 1 Axes>"
      ]
     },
     "metadata": {
      "needs_background": "light"
     },
     "output_type": "display_data"
    }
   ],
   "source": [
    "smoking_and_age = baby.select('Maternal Smoker', 'Maternal Age')\n",
    "smoking_and_age.hist('Maternal Age', group = 'Maternal Smoker')"
   ]
  },
  {
   "cell_type": "code",
   "execution_count": 11,
   "id": "3566d64d",
   "metadata": {
    "scrolled": true
   },
   "outputs": [
    {
     "data": {
      "text/html": [
       "<table border=\"1\" class=\"dataframe\">\n",
       "    <thead>\n",
       "        <tr>\n",
       "            <th>Maternal Smoker</th> <th>Maternal Age average</th>\n",
       "        </tr>\n",
       "    </thead>\n",
       "    <tbody>\n",
       "        <tr>\n",
       "            <td>False          </td> <td>27.5441             </td>\n",
       "        </tr>\n",
       "        <tr>\n",
       "            <td>True           </td> <td>26.7364             </td>\n",
       "        </tr>\n",
       "    </tbody>\n",
       "</table>"
      ],
      "text/plain": [
       "Maternal Smoker | Maternal Age average\n",
       "False           | 27.5441\n",
       "True            | 26.7364"
      ]
     },
     "execution_count": 11,
     "metadata": {},
     "output_type": "execute_result"
    }
   ],
   "source": [
    "smoking_and_age.group('Maternal Smoker', np.average)"
   ]
  },
  {
   "cell_type": "markdown",
   "id": "873fdb00",
   "metadata": {},
   "source": [
    "histograms for the above two distributions look little different. If we closely look onto the histogram we can notice that age of smoking mothers seems to be little younger on average than the non smokers"
   ]
  },
  {
   "cell_type": "markdown",
   "id": "74758ed5",
   "metadata": {},
   "source": [
    "Question 2"
   ]
  },
  {
   "cell_type": "markdown",
   "id": "d0f533de",
   "metadata": {},
   "source": [
    "We can use A/B testing for this particular problem"
   ]
  },
  {
   "cell_type": "markdown",
   "id": "7c55e551",
   "metadata": {},
   "source": [
    "Question 3"
   ]
  },
  {
   "cell_type": "markdown",
   "id": "31cf9cf2",
   "metadata": {},
   "source": [
    "Ho:Null: There is no difference in the ages of the smoking and non smoking mothers\n",
    "\n",
    "H1:Alternate: There is difference in the ages of the smoking and non smoking mothers"
   ]
  },
  {
   "cell_type": "markdown",
   "id": "7a6700d7",
   "metadata": {},
   "source": [
    "Question 4"
   ]
  },
  {
   "cell_type": "markdown",
   "id": "dfa26a6c",
   "metadata": {},
   "source": [
    "A/B testing:\n",
    "The statistic that I recommend is taking the difference of the average ages.\n",
    "If the underlying distributions of ages in the two groups are the same, then the empirical distribution of the difference based on permuted samples will predict how the statistic will vary due to chance. then we can find whether our predicted value lies in the graph we will plot or out. Accordingly we can conclude the hypothesis."
   ]
  },
  {
   "cell_type": "markdown",
   "id": "8aa08d17",
   "metadata": {},
   "source": [
    "Question 5"
   ]
  },
  {
   "cell_type": "code",
   "execution_count": 12,
   "id": "fe85ee49",
   "metadata": {},
   "outputs": [
    {
     "data": {
      "text/html": [
       "<table border=\"1\" class=\"dataframe\">\n",
       "    <thead>\n",
       "        <tr>\n",
       "            <th>Maternal Smoker</th> <th>Maternal Age average</th>\n",
       "        </tr>\n",
       "    </thead>\n",
       "    <tbody>\n",
       "        <tr>\n",
       "            <td>False          </td> <td>27.5441             </td>\n",
       "        </tr>\n",
       "        <tr>\n",
       "            <td>True           </td> <td>26.7364             </td>\n",
       "        </tr>\n",
       "    </tbody>\n",
       "</table>"
      ],
      "text/plain": [
       "Maternal Smoker | Maternal Age average\n",
       "False           | 27.5441\n",
       "True            | 26.7364"
      ]
     },
     "execution_count": 12,
     "metadata": {},
     "output_type": "execute_result"
    }
   ],
   "source": [
    "smoking_and_age.group('Maternal Smoker', np.average)"
   ]
  },
  {
   "cell_type": "markdown",
   "id": "265a4e94",
   "metadata": {},
   "source": [
    "We find the difference of the average"
   ]
  },
  {
   "cell_type": "code",
   "execution_count": 14,
   "id": "2a666421",
   "metadata": {},
   "outputs": [
    {
     "data": {
      "text/plain": [
       "-0.8076725017901509"
      ]
     },
     "execution_count": 14,
     "metadata": {},
     "output_type": "execute_result"
    }
   ],
   "source": [
    "observed_means = smoking_and_age.group('Maternal Smoker',np.average).column(1)\n",
    "observed_difference = observed_means.item(1) -observed_means.item(0)\n",
    "observed_difference"
   ]
  },
  {
   "cell_type": "markdown",
   "id": "b785488b",
   "metadata": {},
   "source": [
    "Small values (that is, large negative values) of this statistic will favor the alternative hypothesis."
   ]
  },
  {
   "cell_type": "markdown",
   "id": "31e76430",
   "metadata": {},
   "source": [
    "Question 6"
   ]
  },
  {
   "cell_type": "code",
   "execution_count": 17,
   "id": "8cd2c299",
   "metadata": {},
   "outputs": [],
   "source": [
    "shuffled_weights =smoking_and_age.sample(with_replacement =False).column(1)\n",
    "original_and_shuffled =smoking_and_age.with_column('Shuffled Age',shuffled_weights)"
   ]
  },
  {
   "cell_type": "code",
   "execution_count": 18,
   "id": "aefc49f4",
   "metadata": {
    "scrolled": true
   },
   "outputs": [
    {
     "data": {
      "text/html": [
       "<table border=\"1\" class=\"dataframe\">\n",
       "    <thead>\n",
       "        <tr>\n",
       "            <th>Maternal Smoker</th> <th>Maternal Age</th> <th>Shuffled Age</th>\n",
       "        </tr>\n",
       "    </thead>\n",
       "    <tbody>\n",
       "        <tr>\n",
       "            <td>False          </td> <td>27          </td> <td>25          </td>\n",
       "        </tr>\n",
       "        <tr>\n",
       "            <td>False          </td> <td>33          </td> <td>33          </td>\n",
       "        </tr>\n",
       "        <tr>\n",
       "            <td>True           </td> <td>28          </td> <td>35          </td>\n",
       "        </tr>\n",
       "        <tr>\n",
       "            <td>True           </td> <td>23          </td> <td>30          </td>\n",
       "        </tr>\n",
       "        <tr>\n",
       "            <td>False          </td> <td>25          </td> <td>36          </td>\n",
       "        </tr>\n",
       "        <tr>\n",
       "            <td>False          </td> <td>33          </td> <td>33          </td>\n",
       "        </tr>\n",
       "        <tr>\n",
       "            <td>False          </td> <td>23          </td> <td>23          </td>\n",
       "        </tr>\n",
       "        <tr>\n",
       "            <td>False          </td> <td>25          </td> <td>26          </td>\n",
       "        </tr>\n",
       "        <tr>\n",
       "            <td>True           </td> <td>30          </td> <td>24          </td>\n",
       "        </tr>\n",
       "        <tr>\n",
       "            <td>False          </td> <td>27          </td> <td>23          </td>\n",
       "        </tr>\n",
       "    </tbody>\n",
       "</table>\n",
       "<p>... (1164 rows omitted)</p>"
      ],
      "text/plain": [
       "Maternal Smoker | Maternal Age | Shuffled Age\n",
       "False           | 27           | 25\n",
       "False           | 33           | 33\n",
       "True            | 28           | 35\n",
       "True            | 23           | 30\n",
       "False           | 25           | 36\n",
       "False           | 33           | 33\n",
       "False           | 23           | 23\n",
       "False           | 25           | 26\n",
       "True            | 30           | 24\n",
       "False           | 27           | 23\n",
       "... (1164 rows omitted)"
      ]
     },
     "execution_count": 18,
     "metadata": {},
     "output_type": "execute_result"
    }
   ],
   "source": [
    "original_and_shuffled"
   ]
  },
  {
   "cell_type": "code",
   "execution_count": 19,
   "id": "3176b6c3",
   "metadata": {
    "scrolled": true
   },
   "outputs": [
    {
     "data": {
      "text/html": [
       "<table border=\"1\" class=\"dataframe\">\n",
       "    <thead>\n",
       "        <tr>\n",
       "            <th>Maternal Smoker</th> <th>Maternal Age average</th> <th>Shuffled Age average</th>\n",
       "        </tr>\n",
       "    </thead>\n",
       "    <tbody>\n",
       "        <tr>\n",
       "            <td>False          </td> <td>27.5441             </td> <td>27.1832             </td>\n",
       "        </tr>\n",
       "        <tr>\n",
       "            <td>True           </td> <td>26.7364             </td> <td>27.2985             </td>\n",
       "        </tr>\n",
       "    </tbody>\n",
       "</table>"
      ],
      "text/plain": [
       "Maternal Smoker | Maternal Age average | Shuffled Age average\n",
       "False           | 27.5441              | 27.1832\n",
       "True            | 26.7364              | 27.2985"
      ]
     },
     "execution_count": 19,
     "metadata": {},
     "output_type": "execute_result"
    }
   ],
   "source": [
    "all_group_means = original_and_shuffled.group('Maternal Smoker',np.average)\n",
    "all_group_means"
   ]
  },
  {
   "cell_type": "code",
   "execution_count": 20,
   "id": "aa3337fd",
   "metadata": {},
   "outputs": [
    {
     "data": {
      "text/plain": [
       "0.11525816231698727"
      ]
     },
     "execution_count": 20,
     "metadata": {},
     "output_type": "execute_result"
    }
   ],
   "source": [
    "shuffled_means = original_and_shuffled.group('Maternal Smoker',\n",
    "np.average).column(2)\n",
    "difference = shuffled_means.item(1) - shuffled_means.item(0)\n",
    "difference"
   ]
  },
  {
   "cell_type": "markdown",
   "id": "7c147918",
   "metadata": {},
   "source": [
    "we must simulate the difference many times."
   ]
  },
  {
   "cell_type": "code",
   "execution_count": 15,
   "id": "bdf6c101",
   "metadata": {},
   "outputs": [],
   "source": [
    "def permuted_sample_average_difference(table, label,group_label, repetitions):\n",
    "    tbl = table.select(group_label, label)\n",
    "    differences = make_array()\n",
    "    for i in np.arange(repetitions):\n",
    "        shuffled = tbl.sample(with_replacement =False).column(1)\n",
    "        original_and_shuffled = tbl.with_column('Shuffled Data',shuffled)\n",
    "        shuffled_means =original_and_shuffled.group(group_label, np.average).column(2)\n",
    "        simulated_difference = shuffled_means.item(1) -shuffled_means.item(0)\n",
    "        differences = np.append(differences,simulated_difference)\n",
    "    return differences"
   ]
  },
  {
   "cell_type": "code",
   "execution_count": 16,
   "id": "7562489e",
   "metadata": {},
   "outputs": [],
   "source": [
    "differences = permuted_sample_average_difference(baby, 'Maternal Age', 'Maternal Smoker', 5000)"
   ]
  },
  {
   "cell_type": "markdown",
   "id": "421c5326",
   "metadata": {},
   "source": [
    "Question 7"
   ]
  },
  {
   "cell_type": "code",
   "execution_count": 21,
   "id": "fffb1c82",
   "metadata": {},
   "outputs": [
    {
     "name": "stdout",
     "output_type": "stream",
     "text": [
      "Observed Difference: -0.8076725017901509\n"
     ]
    },
    {
     "data": {
      "image/png": "[encoded data removed]",
      "text/plain": [
       "<Figure size 432x288 with 1 Axes>"
      ]
     },
     "metadata": {
      "needs_background": "light"
     },
     "output_type": "display_data"
    }
   ],
   "source": [
    "Table().with_column('Difference Between Group Averages',\n",
    "differences).hist()\n",
    "plots.scatter(observed_difference, 0, color='red', s=30)\n",
    "plots.title('Prediction Under the Null Hypothesis')\n",
    "print('Observed Difference:', observed_difference)"
   ]
  },
  {
   "cell_type": "markdown",
   "id": "9ff28d36",
   "metadata": {},
   "source": [
    "Question 8"
   ]
  },
  {
   "cell_type": "code",
   "execution_count": 22,
   "id": "905e97f3",
   "metadata": {},
   "outputs": [
    {
     "data": {
      "text/plain": [
       "0.009"
      ]
     },
     "execution_count": 22,
     "metadata": {},
     "output_type": "execute_result"
    }
   ],
   "source": [
    "empirical_P = np.count_nonzero(differences <=observed_difference) / 5000\n",
    "empirical_P"
   ]
  },
  {
   "cell_type": "markdown",
   "id": "2ff8ee20",
   "metadata": {},
   "source": [
    "Question 9"
   ]
  },
  {
   "cell_type": "markdown",
   "id": "4c3bc727",
   "metadata": {},
   "source": [
    "If the calculated p-value turns out to be less than 0.05, the null hypothesis is considered to be false. Here p value is 0.009 as it is less than 0.05 we say that null is to be false"
   ]
  },
  {
   "cell_type": "markdown",
   "id": "56d8b262",
   "metadata": {},
   "source": [
    "The test supports the claim that the smokers were younger on\n",
    "average."
   ]
  },
  {
   "cell_type": "code",
   "execution_count": null,
   "id": "6295eaad",
   "metadata": {},
   "outputs": [],
   "source": []
  }
 ],
 "metadata": {
  "kernelspec": {
   "display_name": "Python 3 (ipykernel)",
   "language": "python",
   "name": "python3"
  },
  "language_info": {
   "codemirror_mode": {
    "name": "ipython",
    "version": 3
   },
   "file_extension": ".py",
   "mimetype": "text/x-python",
   "name": "python",
   "nbconvert_exporter": "python",
   "pygments_lexer": "ipython3",
   "version": "3.9.12"
  }
 },
 "nbformat": 4,
 "nbformat_minor": 5
}
