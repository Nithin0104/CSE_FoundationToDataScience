{
 "cells": [
  {
   "cell_type": "markdown",
   "id": "b9f31f76",
   "metadata": {},
   "source": [
    "<h1><center>19CSE304 Foundations of Data Science</center></h1>"
   ]
  },
  {
   "cell_type": "markdown",
   "id": "616d6cd5",
   "metadata": {},
   "source": [
    "<h2><center>Assigment :Alameda Jury- Robert Swain Case Study </center>\n"
   ]
  },
  {
   "cell_type": "markdown",
   "id": "7f4ff4a7",
   "metadata": {},
   "source": [
    "\n",
    "<div align='left'><h3><font color ='Green'>Nithin KM</font></div>\n",
    "    \n",
    "<div align='left'><h3><font color ='Green'>CB.EN.U4CSE20342</font></div>\n",
    "\n",
    "<div align='left'><h3><font color ='Green'>28th Nov 2022</font></div>\n",
    "\n"
   ]
  },
  {
   "cell_type": "code",
   "execution_count": 16,
   "id": "2abb6cdb",
   "metadata": {},
   "outputs": [],
   "source": [
    "from datascience import *\n",
    "import pandas as pd\n",
    "import numpy as np"
   ]
  },
  {
   "cell_type": "code",
   "execution_count": 17,
   "id": "215ca14b",
   "metadata": {},
   "outputs": [],
   "source": [
    "%matplotlib inline\n",
    "import matplotlib.pyplot as plots"
   ]
  },
  {
   "cell_type": "markdown",
   "id": "3e1e4333",
   "metadata": {},
   "source": [
    "### 1.\tRead the case study given in Page no: 301- 311 of TB “Computational and Inferential Thinking”. It discusses about the selection of the jury in Alameda County extending the Robert swain case study (seen in class) to multiple categories. Answer the following questions: "
   ]
  },
  {
   "cell_type": "markdown",
   "id": "fc99ad45",
   "metadata": {},
   "source": [
    "#### a)\tState the Null hypothesis and the Alternate hypothesis. "
   ]
  },
  {
   "cell_type": "markdown",
   "id": "39922361",
   "metadata": {},
   "source": [
    "H0 = The panel of jury in Robert Swains trial is a random sample from the distribution provided for eligible jurors inclusive of a representative cross section of the population\n",
    "\n",
    "Ha = The panel of jury in Robert Swains trial is **not** a random sample from the distribution provided for eligible jurors inclusive of a representative cross section of the population and is partial to the whites."
   ]
  },
  {
   "cell_type": "markdown",
   "id": "d274bb02",
   "metadata": {},
   "source": [
    "#### b)\tCreate a data frame for the table “jury” (mentioned in the case study) and display the columns."
   ]
  },
  {
   "cell_type": "code",
   "execution_count": 18,
   "id": "0e4bc818",
   "metadata": {},
   "outputs": [
    {
     "data": {
      "text/html": [
       "<table border=\"1\" class=\"dataframe\">\n",
       "    <thead>\n",
       "        <tr>\n",
       "            <th>Ethnicity</th> <th>Eligible</th> <th>Panels</th>\n",
       "        </tr>\n",
       "    </thead>\n",
       "    <tbody>\n",
       "        <tr>\n",
       "            <td>Asian    </td> <td>0.15    </td> <td>0.26  </td>\n",
       "        </tr>\n",
       "        <tr>\n",
       "            <td>Black    </td> <td>0.18    </td> <td>0.08  </td>\n",
       "        </tr>\n",
       "        <tr>\n",
       "            <td>Latino   </td> <td>0.12    </td> <td>0.08  </td>\n",
       "        </tr>\n",
       "        <tr>\n",
       "            <td>White    </td> <td>0.54    </td> <td>0.54  </td>\n",
       "        </tr>\n",
       "        <tr>\n",
       "            <td>Other    </td> <td>0.01    </td> <td>0.04  </td>\n",
       "        </tr>\n",
       "    </tbody>\n",
       "</table>"
      ],
      "text/plain": [
       "Ethnicity | Eligible | Panels\n",
       "Asian     | 0.15     | 0.26\n",
       "Black     | 0.18     | 0.08\n",
       "Latino    | 0.12     | 0.08\n",
       "White     | 0.54     | 0.54\n",
       "Other     | 0.01     | 0.04"
      ]
     },
     "execution_count": 18,
     "metadata": {},
     "output_type": "execute_result"
    }
   ],
   "source": [
    "jury = Table().with_columns(\n",
    "'Ethnicity', make_array('Asian', 'Black', 'Latino', 'White',\n",
    "'Other'),\n",
    "'Eligible', make_array(0.15, 0.18, 0.12, 0.54, 0.01),\n",
    "'Panels', make_array(0.26, 0.08, 0.08, 0.54, 0.04)\n",
    ")\n",
    "jury"
   ]
  },
  {
   "cell_type": "markdown",
   "id": "40512562",
   "metadata": {},
   "source": [
    "#### c)\tCreate another data frame for “Ethnicity” and  display the data frame as in the example using the index for “Ethnicity”."
   ]
  },
  {
   "cell_type": "code",
   "execution_count": 19,
   "id": "5b901972",
   "metadata": {
    "scrolled": true
   },
   "outputs": [
    {
     "data": {
      "text/html": [
       "<div>\n",
       "<style scoped>\n",
       "    .dataframe tbody tr th:only-of-type {\n",
       "        vertical-align: middle;\n",
       "    }\n",
       "\n",
       "    .dataframe tbody tr th {\n",
       "        vertical-align: top;\n",
       "    }\n",
       "\n",
       "    .dataframe thead th {\n",
       "        text-align: right;\n",
       "    }\n",
       "</style>\n",
       "<table border=\"1\" class=\"dataframe\">\n",
       "  <thead>\n",
       "    <tr style=\"text-align: right;\">\n",
       "      <th></th>\n",
       "      <th>Ethnicity</th>\n",
       "      <th>Eligible</th>\n",
       "      <th>Panels</th>\n",
       "    </tr>\n",
       "  </thead>\n",
       "  <tbody>\n",
       "    <tr>\n",
       "      <th>0</th>\n",
       "      <td>Asian</td>\n",
       "      <td>0.15</td>\n",
       "      <td>0.26</td>\n",
       "    </tr>\n",
       "    <tr>\n",
       "      <th>1</th>\n",
       "      <td>Black</td>\n",
       "      <td>0.18</td>\n",
       "      <td>0.08</td>\n",
       "    </tr>\n",
       "    <tr>\n",
       "      <th>2</th>\n",
       "      <td>Latino</td>\n",
       "      <td>0.12</td>\n",
       "      <td>0.08</td>\n",
       "    </tr>\n",
       "    <tr>\n",
       "      <th>3</th>\n",
       "      <td>White</td>\n",
       "      <td>0.54</td>\n",
       "      <td>0.54</td>\n",
       "    </tr>\n",
       "    <tr>\n",
       "      <th>4</th>\n",
       "      <td>Other</td>\n",
       "      <td>0.01</td>\n",
       "      <td>0.04</td>\n",
       "    </tr>\n",
       "  </tbody>\n",
       "</table>\n",
       "</div>"
      ],
      "text/plain": [
       "  Ethnicity  Eligible  Panels\n",
       "0     Asian      0.15    0.26\n",
       "1     Black      0.18    0.08\n",
       "2    Latino      0.12    0.08\n",
       "3     White      0.54    0.54\n",
       "4     Other      0.01    0.04"
      ]
     },
     "execution_count": 19,
     "metadata": {},
     "output_type": "execute_result"
    }
   ],
   "source": [
    "data=[['Asian',0.15,0.26],['Black',0.18,0.08],['Latino',0.12,0.08],['White',0.54,0.54],['Other',0.01,0.04]]\n",
    "jury2=pd.DataFrame(data,columns=['Ethnicity','Eligible','Panels'])\n",
    "\n",
    "jury2"
   ]
  },
  {
   "cell_type": "markdown",
   "id": "cd5f3fad",
   "metadata": {},
   "source": [
    "#### d)\tPlot a bar chart   for visualising the differences between different Ethnic groups under represented .over represented in the panel."
   ]
  },
  {
   "cell_type": "code",
   "execution_count": 20,
   "id": "c0978d74",
   "metadata": {},
   "outputs": [
    {
     "data": {
      "image/png": "[encoded data removed]",
      "text/plain": [
       "<Figure size 432x288 with 1 Axes>"
      ]
     },
     "metadata": {
      "needs_background": "light"
     },
     "output_type": "display_data"
    }
   ],
   "source": [
    "jury.barh('Ethnicity')"
   ]
  },
  {
   "cell_type": "markdown",
   "id": "622de884",
   "metadata": {},
   "source": [
    "#### e)\tFind the difference between the distribution for “Eligible” and “Panels” and populate a data frame with the result values (“The difference”) and display the “Eligible”. “Panels” and “The difference” indexing on “Ethnicity”. "
   ]
  },
  {
   "cell_type": "code",
   "execution_count": 21,
   "id": "ce8b29bc",
   "metadata": {},
   "outputs": [
    {
     "data": {
      "text/html": [
       "<table border=\"1\" class=\"dataframe\">\n",
       "    <thead>\n",
       "        <tr>\n",
       "            <th>Ethnicity</th> <th>Eligible</th> <th>Panels</th> <th>Difference</th>\n",
       "        </tr>\n",
       "    </thead>\n",
       "    <tbody>\n",
       "        <tr>\n",
       "            <td>Asian    </td> <td>0.15    </td> <td>0.26  </td> <td>0.11      </td>\n",
       "        </tr>\n",
       "        <tr>\n",
       "            <td>Black    </td> <td>0.18    </td> <td>0.08  </td> <td>-0.1      </td>\n",
       "        </tr>\n",
       "        <tr>\n",
       "            <td>Latino   </td> <td>0.12    </td> <td>0.08  </td> <td>-0.04     </td>\n",
       "        </tr>\n",
       "        <tr>\n",
       "            <td>White    </td> <td>0.54    </td> <td>0.54  </td> <td>0         </td>\n",
       "        </tr>\n",
       "        <tr>\n",
       "            <td>Other    </td> <td>0.01    </td> <td>0.04  </td> <td>0.03      </td>\n",
       "        </tr>\n",
       "    </tbody>\n",
       "</table>"
      ],
      "text/plain": [
       "Ethnicity | Eligible | Panels | Difference\n",
       "Asian     | 0.15     | 0.26   | 0.11\n",
       "Black     | 0.18     | 0.08   | -0.1\n",
       "Latino    | 0.12     | 0.08   | -0.04\n",
       "White     | 0.54     | 0.54   | 0\n",
       "Other     | 0.01     | 0.04   | 0.03"
      ]
     },
     "execution_count": 21,
     "metadata": {},
     "output_type": "execute_result"
    }
   ],
   "source": [
    "jury_with_diffs = jury.with_column('Difference', jury.column('Panels') - jury.column('Eligible'))\n",
    "jury_with_diffs"
   ]
  },
  {
   "cell_type": "markdown",
   "id": "c80a66b2",
   "metadata": {},
   "source": [
    "#### f)\tComment on the “The difference” computed. "
   ]
  },
  {
   "cell_type": "markdown",
   "id": "776d8ae9",
   "metadata": {},
   "source": [
    "We can notice that the sum of the positive values in the difference is 0.14 and sum of negative values is -0.14.So the sum is 0.From this we can infer that the gold bar (Panels) exceeds the blue bar (Eligible) as same as the blue bar exceeds with gold bar.\n",
    "\n",
    "* It can be observed that there is a significant difference for the Asians and Blacks as compared to the other ethnicities. \n",
    "\n",
    "* It seems partial that the whites do not have any difference i.e, all the eligible whites are recruited for the panel unlike the other ethnicity."
   ]
  },
  {
   "cell_type": "markdown",
   "id": "0d8096ca",
   "metadata": {},
   "source": [
    "#### g)\tCalculate the total variation distance between the distribution of ethnicities in the eligible juror population and the distribution in the panels"
   ]
  },
  {
   "cell_type": "code",
   "execution_count": 22,
   "id": "8226b1fe",
   "metadata": {},
   "outputs": [
    {
     "data": {
      "text/plain": [
       "0.14000000000000001"
      ]
     },
     "execution_count": 22,
     "metadata": {},
     "output_type": "execute_result"
    }
   ],
   "source": [
    "def total_variation_distance(distribution_1, distribution_2):\n",
    "    return np.abs(distribution_1 - distribution_2).sum()/2\n",
    "def table_tvd(table, label, other):\n",
    "    return total_variation_distance(table.column(label), table.column(other))\n",
    "\n",
    "table_tvd(jury, 'Eligible', 'Panels')"
   ]
  },
  {
   "cell_type": "markdown",
   "id": "fdd79d06",
   "metadata": {},
   "source": [
    "#### h)\tDo a simulation to answer “Whether the panels are representative of the population”? Assume the panel size as 1200. Comment on your results. "
   ]
  },
  {
   "cell_type": "code",
   "execution_count": 23,
   "id": "fe96894f",
   "metadata": {},
   "outputs": [
    {
     "data": {
      "text/html": [
       "<table border=\"1\" class=\"dataframe\">\n",
       "    <thead>\n",
       "        <tr>\n",
       "            <th>Ethnicity</th> <th>Eligible</th> <th>Panels</th> <th>Random Sample</th>\n",
       "        </tr>\n",
       "    </thead>\n",
       "    <tbody>\n",
       "        <tr>\n",
       "            <td>Asian    </td> <td>0.15    </td> <td>0.26  </td> <td>0.158333     </td>\n",
       "        </tr>\n",
       "        <tr>\n",
       "            <td>Black    </td> <td>0.18    </td> <td>0.08  </td> <td>0.179167     </td>\n",
       "        </tr>\n",
       "        <tr>\n",
       "            <td>Latino   </td> <td>0.12    </td> <td>0.08  </td> <td>0.108333     </td>\n",
       "        </tr>\n",
       "        <tr>\n",
       "            <td>White    </td> <td>0.54    </td> <td>0.54  </td> <td>0.544167     </td>\n",
       "        </tr>\n",
       "        <tr>\n",
       "            <td>Other    </td> <td>0.01    </td> <td>0.04  </td> <td>0.01         </td>\n",
       "        </tr>\n",
       "    </tbody>\n",
       "</table>"
      ],
      "text/plain": [
       "Ethnicity | Eligible | Panels | Random Sample\n",
       "Asian     | 0.15     | 0.26   | 0.158333\n",
       "Black     | 0.18     | 0.08   | 0.179167\n",
       "Latino    | 0.12     | 0.08   | 0.108333\n",
       "White     | 0.54     | 0.54   | 0.544167\n",
       "Other     | 0.01     | 0.04   | 0.01"
      ]
     },
     "execution_count": 23,
     "metadata": {},
     "output_type": "execute_result"
    }
   ],
   "source": [
    "eligible_population = jury.column('Eligible')\n",
    "panel_size = 1200\n",
    "sample_distribution = sample_proportions(panel_size,eligible_population)\n",
    "panels_and_sample = jury.with_column('Random Sample',sample_distribution)\n",
    "panels_and_sample"
   ]
  },
  {
   "cell_type": "code",
   "execution_count": 24,
   "id": "aac11c45",
   "metadata": {},
   "outputs": [
    {
     "data": {
      "image/png": "[encoded data removed]",
      "text/plain": [
       "<Figure size 432x288 with 1 Axes>"
      ]
     },
     "metadata": {
      "needs_background": "light"
     },
     "output_type": "display_data"
    }
   ],
   "source": [
    "panels_and_sample.barh('Ethnicity')"
   ]
  },
  {
   "cell_type": "code",
   "execution_count": 25,
   "id": "858fa5e7",
   "metadata": {},
   "outputs": [
    {
     "data": {
      "text/html": [
       "<table border=\"1\" class=\"dataframe\">\n",
       "    <thead>\n",
       "        <tr>\n",
       "            <th>TVD</th>\n",
       "        </tr>\n",
       "    </thead>\n",
       "    <tbody>\n",
       "        <tr>\n",
       "            <td>0.01      </td>\n",
       "        </tr>\n",
       "        <tr>\n",
       "            <td>0.0108333 </td>\n",
       "        </tr>\n",
       "        <tr>\n",
       "            <td>0.0258333 </td>\n",
       "        </tr>\n",
       "        <tr>\n",
       "            <td>0.0258333 </td>\n",
       "        </tr>\n",
       "        <tr>\n",
       "            <td>0.00916667</td>\n",
       "        </tr>\n",
       "        <tr>\n",
       "            <td>0.00416667</td>\n",
       "        </tr>\n",
       "        <tr>\n",
       "            <td>0.0116667 </td>\n",
       "        </tr>\n",
       "        <tr>\n",
       "            <td>0.0325    </td>\n",
       "        </tr>\n",
       "        <tr>\n",
       "            <td>0.0116667 </td>\n",
       "        </tr>\n",
       "        <tr>\n",
       "            <td>0.0383333 </td>\n",
       "        </tr>\n",
       "    </tbody>\n",
       "</table>\n",
       "<p>... (4990 rows omitted)</p>"
      ],
      "text/plain": [
       "TVD\n",
       "0.01\n",
       "0.0108333\n",
       "0.0258333\n",
       "0.0258333\n",
       "0.00916667\n",
       "0.00416667\n",
       "0.0116667\n",
       "0.0325\n",
       "0.0116667\n",
       "0.0383333\n",
       "... (4990 rows omitted)"
      ]
     },
     "execution_count": 25,
     "metadata": {},
     "output_type": "execute_result"
    }
   ],
   "source": [
    "eligible_population = jury.column('Eligible')\n",
    "panel_size = 1200\n",
    "tvds = make_array()\n",
    "repetitions = 5000\n",
    "for i in np.arange(repetitions):\n",
    "    sample_distribution = sample_proportions(panel_size,eligible_population)\n",
    "    new_tvd = total_variation_distance(sample_distribution,eligible_population)\n",
    "    tvds = np.append(tvds, new_tvd)\n",
    "tvds\n",
    "results = Table().with_column('TVD', tvds)\n",
    "results"
   ]
  },
  {
   "cell_type": "code",
   "execution_count": 26,
   "id": "8274190c",
   "metadata": {},
   "outputs": [
    {
     "name": "stderr",
     "output_type": "stream",
     "text": [
      "C:\\Users\\Nithin KM\\anaconda3\\lib\\site-packages\\datascience\\tables.py:5865: UserWarning: FixedFormatter should only be used together with FixedLocator\n",
      "  axis.set_xticklabels(ticks, rotation='vertical')\n"
     ]
    },
    {
     "data": {
      "image/png": "[encoded data removed]",
      "text/plain": [
       "<Figure size 432x288 with 1 Axes>"
      ]
     },
     "metadata": {
      "needs_background": "light"
     },
     "output_type": "display_data"
    }
   ],
   "source": [
    "Table().with_column('TVD', tvds).hist(bins=np.arange(0, 0.2,0.005))"
   ]
  },
  {
   "cell_type": "markdown",
   "id": "a146e3c5",
   "metadata": {},
   "source": [
    "#### We can see that the  panels in our study were not quite so similar to the eligible population. \n",
    "#### The total variation distance between the panels and the population was 0.14, which is far out in the tail of the histogram above.\n",
    "#### It does not look at all like a typical distance between a random sample and the eligible population.\n",
    "#### The data in the panels is not consistent with the predicted values of the statistic based on the model of random selection.\n",
    "#### So our analysis supports that the panels were not representative of the distribution provided for the eligible jurors."
   ]
  },
  {
   "cell_type": "code",
   "execution_count": 27,
   "id": "563bfc63",
   "metadata": {},
   "outputs": [
    {
     "data": {
      "text/html": [
       "<table border=\"1\" class=\"dataframe\">\n",
       "    <thead>\n",
       "        <tr>\n",
       "            <th>Ethnicity</th> <th>Eligible</th> <th>Panel</th>\n",
       "        </tr>\n",
       "    </thead>\n",
       "    <tbody>\n",
       "        <tr>\n",
       "            <td>Black    </td> <td>0.26    </td> <td>0.08 </td>\n",
       "        </tr>\n",
       "        <tr>\n",
       "            <td>Other    </td> <td>0.74    </td> <td>0.92 </td>\n",
       "        </tr>\n",
       "    </tbody>\n",
       "</table>"
      ],
      "text/plain": [
       "Ethnicity | Eligible | Panel\n",
       "Black     | 0.26     | 0.08\n",
       "Other     | 0.74     | 0.92"
      ]
     },
     "execution_count": 27,
     "metadata": {},
     "output_type": "execute_result"
    }
   ],
   "source": [
    "swain_jury = Table().with_columns(\n",
    "    'Ethnicity', make_array('Black', 'Other'),\n",
    "    'Eligible', make_array(0.26, 0.74),\n",
    "    'Panel', make_array(0.08, 0.92)\n",
    ")\n",
    "\n",
    "swain_jury\n"
   ]
  },
  {
   "cell_type": "code",
   "execution_count": 28,
   "id": "e1c8df34",
   "metadata": {},
   "outputs": [
    {
     "data": {
      "text/plain": [
       "0.18000000000000002"
      ]
     },
     "execution_count": 28,
     "metadata": {},
     "output_type": "execute_result"
    }
   ],
   "source": [
    "table_tvd(swain_jury, 'Eligible', 'Panel')"
   ]
  },
  {
   "cell_type": "code",
   "execution_count": 29,
   "id": "c9b8b32a",
   "metadata": {},
   "outputs": [
    {
     "data": {
      "image/png": "[encoded data removed]",
      "text/plain": [
       "<Figure size 432x288 with 1 Axes>"
      ]
     },
     "metadata": {
      "needs_background": "light"
     },
     "output_type": "display_data"
    }
   ],
   "source": [
    "panel_size = 100\n",
    "repetitions = 5000\n",
    "\n",
    "tvds = make_array()\n",
    "\n",
    "for i in np.arange(repetitions):\n",
    "\n",
    "    new_sample = proportions_from_distribution(swain_jury, 'Eligible', panel_size)\n",
    "    tvds = np.append(tvds, table_tvd(new_sample, 'Eligible', 'Random Sample'))\n",
    "\n",
    "results = Table().with_column('TVD', tvds)\n",
    "results.hist(bins = np.arange(0, 0.2, 0.01))"
   ]
  },
  {
   "cell_type": "markdown",
   "id": "76158fdd",
   "metadata": {},
   "source": [
    "* The random samples typically have a much smaller TVD than the value of 0.18 that we got for the panel and the eligible jurors.\n",
    "\n",
    "* In this analysis, the data are not clouded by questions as in our previous analysis – the total numbers of people involved were relatively small, and the counting was done carefully for the Supreme Court case.\n",
    "\n",
    "* Thus our analysis has a clear conclusion, which is that the panel was not representative of the population. It is hard to accept the Supreme Court's judgment that \"the overall percentage disparity has been small.\""
   ]
  },
  {
   "cell_type": "code",
   "execution_count": null,
   "id": "c39622d2",
   "metadata": {},
   "outputs": [],
   "source": []
  }
 ],
 "metadata": {
  "kernelspec": {
   "display_name": "Python 3 (ipykernel)",
   "language": "python",
   "name": "python3"
  },
  "language_info": {
   "codemirror_mode": {
    "name": "ipython",
    "version": 3
   },
   "file_extension": ".py",
   "mimetype": "text/x-python",
   "name": "python",
   "nbconvert_exporter": "python",
   "pygments_lexer": "ipython3",
   "version": "3.9.12"
  }
 },
 "nbformat": 4,
 "nbformat_minor": 5
}
