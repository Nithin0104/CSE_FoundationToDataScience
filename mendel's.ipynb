{
  "nbformat": 4,
  "nbformat_minor": 0,
  "metadata": {
    "colab": {
      "provenance": []
    },
    "kernelspec": {
      "name": "python3",
      "display_name": "Python 3"
    },
    "language_info": {
      "name": "python"
    }
  },
  "cells": [
    {
      "cell_type": "code",
      "source": [
        "from datascience import *\n",
        "%matplotlib inline\n",
        "import matplotlib.pyplot as plots\n",
        "import numpy as np\n",
        "import pandas as pd"
      ],
      "metadata": {
        "id": "CJGCTm0YAi4g"
      },
      "execution_count": null,
      "outputs": []
    },
    {
      "cell_type": "code",
      "execution_count": null,
      "metadata": {
        "colab": {
          "base_uri": "https://localhost:8080/"
        },
        "id": "5up4Ym75AgYl",
        "outputId": "b9ae4a65-0045-4371-82d8-886ac785c74c"
      },
      "outputs": [
        {
          "output_type": "execute_result",
          "data": {
            "text/plain": [
              "1.5339074273412336"
            ]
          },
          "metadata": {},
          "execution_count": 6
        }
      ],
      "source": [
        "model_proportions = [0.75, 0.25]\n",
        "abs(100 * sample_proportions(929, model_proportions).item(0) -75)\n"
      ]
    },
    {
      "cell_type": "code",
      "source": [
        "repetitions = 5000\n",
        "\n",
        "tvds = make_array()\n",
        "\n",
        "for i in np.arange(repetitions):\n",
        "\n",
        "    new_sample = abs(100 * sample_proportions(929, model_proportions).item(0) -75)\n",
        "    tvds = np.append(new_sample,tvds)\n",
        "\n",
        "results = Table().with_column('TVD', tvds)\n",
        "results"
      ],
      "metadata": {
        "colab": {
          "base_uri": "https://localhost:8080/",
          "height": 392
        },
        "id": "KVg9EkehAtd3",
        "outputId": "39ca2c9a-b455-4b32-a6c1-34ed716052ef"
      },
      "execution_count": null,
      "outputs": [
        {
          "output_type": "execute_result",
          "data": {
            "text/plain": [
              "TVD\n",
              "1.21098\n",
              "0.726588\n",
              "0.565124\n",
              "1.69537\n",
              "0.565124\n",
              "0.134553\n",
              "1.31862\n",
              "0.296017\n",
              "0.134553\n",
              "1.58773\n",
              "... (4990 rows omitted)"
            ],
            "text/html": [
              "<table border=\"1\" class=\"dataframe\">\n",
              "    <thead>\n",
              "        <tr>\n",
              "            <th>TVD</th>\n",
              "        </tr>\n",
              "    </thead>\n",
              "    <tbody>\n",
              "        <tr>\n",
              "            <td>1.21098 </td>\n",
              "        </tr>\n",
              "        <tr>\n",
              "            <td>0.726588</td>\n",
              "        </tr>\n",
              "        <tr>\n",
              "            <td>0.565124</td>\n",
              "        </tr>\n",
              "        <tr>\n",
              "            <td>1.69537 </td>\n",
              "        </tr>\n",
              "        <tr>\n",
              "            <td>0.565124</td>\n",
              "        </tr>\n",
              "        <tr>\n",
              "            <td>0.134553</td>\n",
              "        </tr>\n",
              "        <tr>\n",
              "            <td>1.31862 </td>\n",
              "        </tr>\n",
              "        <tr>\n",
              "            <td>0.296017</td>\n",
              "        </tr>\n",
              "        <tr>\n",
              "            <td>0.134553</td>\n",
              "        </tr>\n",
              "        <tr>\n",
              "            <td>1.58773 </td>\n",
              "        </tr>\n",
              "    </tbody>\n",
              "</table>\n",
              "<p>... (4990 rows omitted)</p>"
            ]
          },
          "metadata": {},
          "execution_count": 7
        }
      ]
    },
    {
      "cell_type": "code",
      "source": [
        "results.hist()"
      ],
      "metadata": {
        "colab": {
          "base_uri": "https://localhost:8080/",
          "height": 284
        },
        "id": "FtAhFGGNBYN-",
        "outputId": "573338b0-a9b9-4f47-c5bc-8546d70a12b6"
      },
      "execution_count": null,
      "outputs": [
        {
          "output_type": "display_data",
          "data": {
            "text/plain": [
              "<Figure size 432x288 with 1 Axes>"
            ],
            "image/png": "[encoded data removed]"
          },
          "metadata": {
            "needs_background": "light"
          }
        }
      ]
    },
    {
      "cell_type": "code",
      "source": [
        "observed_statistic = abs (100 * (705 / 929) - 75)\n",
        "observed_statistic\n"
      ],
      "metadata": {
        "colab": {
          "base_uri": "https://localhost:8080/"
        },
        "id": "XKSlCdmZBkni",
        "outputId": "44458973-eeee-44b5-fb08-38523f6c3674"
      },
      "execution_count": null,
      "outputs": [
        {
          "output_type": "execute_result",
          "data": {
            "text/plain": [
              "0.8880516684607045"
            ]
          },
          "metadata": {},
          "execution_count": 10
        }
      ]
    },
    {
      "cell_type": "code",
      "source": [
        "results.hist()\n",
        "plots.scatter(observed_statistic, 0, color='red', s=30);\n"
      ],
      "metadata": {
        "colab": {
          "base_uri": "https://localhost:8080/",
          "height": 284
        },
        "id": "rpzmlWGmB0Wb",
        "outputId": "cea4e364-ea39-468a-bfc6-fddb6f3cdfa4"
      },
      "execution_count": null,
      "outputs": [
        {
          "output_type": "display_data",
          "data": {
            "text/plain": [
              "<Figure size 432x288 with 1 Axes>"
            ],
            "image/png": "[encoded data removed]"
          },
          "metadata": {
            "needs_background": "light"
          }
        }
      ]
    }
  ]
}