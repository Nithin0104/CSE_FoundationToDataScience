{
 "cells": [
  {
   "cell_type": "markdown",
   "metadata": {},
   "source": [
    "## Fundamental of Data Science\n",
    "### Assignment 1\n",
    "\n",
    "#### Nithin KM \n",
    "#### CB.EN.U4CSE20342"
   ]
  },
  {
   "cell_type": "markdown",
   "metadata": {
    "id": "fq0lOHhPSHL-"
   },
   "source": [
    "1.\tGenerate a tuple from the set [\"aman\", \"222\", 777, 400.4]"
   ]
  },
  {
   "cell_type": "code",
   "execution_count": null,
   "metadata": {
    "colab": {
     "base_uri": "https://localhost:8080/"
    },
    "id": "tTCkwO7PCEGS",
    "outputId": "45323899-425f-4730-8741-189f1149284c"
   },
   "outputs": [
    {
     "data": {
      "text/plain": [
       "777"
      ]
     },
     "execution_count": 136,
     "metadata": {},
     "output_type": "execute_result"
    }
   ],
   "source": [
    "a = [\"aman\",\"222\",777,400.4]\n",
    "a[2]"
   ]
  },
  {
   "cell_type": "markdown",
   "metadata": {
    "id": "W-uE6L7kSJGt"
   },
   "source": [
    "2.\tCreate a dictionary of your basic data : (a) Roll No (b) Last Name (c) First Name (d) Date of birth. Print out the values and keys."
   ]
  },
  {
   "cell_type": "code",
   "execution_count": 1,
   "metadata": {
    "colab": {
     "base_uri": "https://localhost:8080/"
    },
    "id": "0-JCiaw0CnGs",
    "outputId": "edad1c54-a15a-44f9-8597-7ff98d292e15"
   },
   "outputs": [
    {
     "name": "stdout",
     "output_type": "stream",
     "text": [
      "[(1, 'R', 'Ram', '12.12.23') (2, 'S', 'Seetha', '12.3.22')\n",
      " (3, 'SJ', 'Laxman', '31.4.21') (4, 'S', 'Arun', '14.5.20')]\n",
      "(2, 'S', 'Seetha', '12.3.22')\n",
      "['R' 'S' 'SJ' 'S']\n"
     ]
    }
   ],
   "source": [
    "import numpy as np\n",
    "import pandas as pd\n",
    "\n",
    "b = np.array([(1,\"R\",\"Ram\",\"12.12.23\"),\n",
    "              (2,\"S\",\"Seetha\",\"12.3.22\"),\n",
    "              (3,\"SJ\",\"Laxman\",\"31.4.21\"),\n",
    "              (4,\"S\",\"Arun\",\"14.5.20\")],\n",
    "             dtype=[('Roll No','i4'),('Last Name','U10'),('First Name','U10'),('D.O.B','U10')])\n",
    "print(b)\n",
    "print(b[1])\n",
    "print(b['Last Name'])"
   ]
  },
  {
   "cell_type": "markdown",
   "metadata": {
    "id": "7w_5pFGrSMym"
   },
   "source": [
    "3.\tUse rand function to generate a 2-dimensional random array with seed."
   ]
  },
  {
   "cell_type": "code",
   "execution_count": null,
   "metadata": {
    "colab": {
     "base_uri": "https://localhost:8080/"
    },
    "id": "rfBL9le9IIBI",
    "outputId": "2cf58fde-0c97-4d3b-839b-7f81d7dbc3c7"
   },
   "outputs": [
    {
     "data": {
      "text/plain": [
       "array([[1, 6, 1, 7],\n",
       "       [4, 3, 4, 1]])"
      ]
     },
     "execution_count": 138,
     "metadata": {},
     "output_type": "execute_result"
    }
   ],
   "source": [
    "c=np.random.seed(2)\n",
    "c=np.random.randint(low=1,high=8,size=(2,4))\n",
    "c"
   ]
  },
  {
   "cell_type": "markdown",
   "metadata": {
    "id": "6yezTvngSPcg"
   },
   "source": [
    "4.\tGenerate a single random number in [0.0, 1.0]. Find the absolute value of (-1234)"
   ]
  },
  {
   "cell_type": "code",
   "execution_count": null,
   "metadata": {
    "colab": {
     "base_uri": "https://localhost:8080/"
    },
    "id": "6FLz0BJ1PccO",
    "outputId": "a65a9f8b-4a88-4f24-d222-592b49d050bb"
   },
   "outputs": [
    {
     "data": {
      "text/plain": [
       "array([0.4359949])"
      ]
     },
     "execution_count": 22,
     "metadata": {},
     "output_type": "execute_result"
    }
   ],
   "source": [
    "np.random.seed(2)\n",
    "np.random.random(1)"
   ]
  },
  {
   "cell_type": "markdown",
   "metadata": {
    "id": "2UOfKyE8SRq2"
   },
   "source": [
    "5.\tReturn a random integer N such that 20 <= N <= 90. "
   ]
  },
  {
   "cell_type": "code",
   "execution_count": null,
   "metadata": {
    "colab": {
     "base_uri": "https://localhost:8080/"
    },
    "id": "YdQWYHinPvj5",
    "outputId": "5a8bafeb-ae9e-4c26-aace-a9519984132e"
   },
   "outputs": [
    {
     "data": {
      "text/plain": [
       "array([60])"
      ]
     },
     "execution_count": 23,
     "metadata": {},
     "output_type": "execute_result"
    }
   ],
   "source": [
    "np.random.seed(2)\n",
    "np.random.randint(low=20,high=90,size=(1))"
   ]
  },
  {
   "cell_type": "markdown",
   "metadata": {
    "id": "7703aywpSTic"
   },
   "source": [
    "6.\tGiven a population or set[11, 12, 13,14, 15]\n",
    "o\tReturn a 3 length list of unique elements without replacement.\n",
    "o\tShuffle the above set\n",
    "o\tPrint a random number from the set\n"
   ]
  },
  {
   "cell_type": "code",
   "execution_count": null,
   "metadata": {
    "colab": {
     "base_uri": "https://localhost:8080/"
    },
    "id": "touGYw8XQXoO",
    "outputId": "a20a51d4-5134-462c-fcad-0a0404a7adb4"
   },
   "outputs": [
    {
     "data": {
      "text/plain": [
       "[13, 11, 15]"
      ]
     },
     "execution_count": 121,
     "metadata": {},
     "output_type": "execute_result"
    }
   ],
   "source": [
    "import random\n",
    "bd= [11,12,13,14,15]\n",
    "random.sample(bd,k=3)"
   ]
  },
  {
   "cell_type": "markdown",
   "metadata": {
    "id": "Y_lyuuYlSVJB"
   },
   "source": [
    "7.\tWrite the text \"The King is Dead, Long Live The King\" on to a file in your hard drive; read and print the text."
   ]
  },
  {
   "cell_type": "code",
   "execution_count": null,
   "metadata": {
    "colab": {
     "base_uri": "https://localhost:8080/"
    },
    "id": "ii7kAMzmSw-1",
    "outputId": "ac9c70cc-59ad-4990-893e-e2906a49d1c8"
   },
   "outputs": [
    {
     "name": "stdout",
     "output_type": "stream",
     "text": [
      "The King is Dead, Long Live The King\n"
     ]
    }
   ],
   "source": [
    "lines = [\"The King is Dead, Long Live The King\"]\n",
    "with open('readme.txt', 'w') as f:\n",
    "    f.writelines(lines)\n",
    "with open('readme.txt','r') as g:\n",
    "    print(g.read())"
   ]
  },
  {
   "cell_type": "code",
   "execution_count": null,
   "metadata": {
    "colab": {
     "base_uri": "https://localhost:8080/"
    },
    "id": "N2MnNY_-Q80m",
    "outputId": "d1f152b2-0ebb-430f-fde9-b25cf9a3ffd5"
   },
   "outputs": [
    {
     "data": {
      "text/plain": [
       "[11, 12, 13, 14, 15]"
      ]
     },
     "execution_count": 122,
     "metadata": {},
     "output_type": "execute_result"
    }
   ],
   "source": [
    "random.shuffle(b)\n",
    "bd"
   ]
  },
  {
   "cell_type": "markdown",
   "metadata": {
    "id": "DrKIAN06SWkc"
   },
   "source": [
    "8.\tCreate an illustrative function to demonstrate use of: if, elif and else (b) for, while, break and continue. "
   ]
  },
  {
   "cell_type": "code",
   "execution_count": null,
   "metadata": {
    "colab": {
     "base_uri": "https://localhost:8080/"
    },
    "id": "lJP7XCnIVAFR",
    "outputId": "861585b0-f007-49b7-986c-a79e5ba6d5f1"
   },
   "outputs": [
    {
     "name": "stdout",
     "output_type": "stream",
     "text": [
      "Positive number\n"
     ]
    }
   ],
   "source": [
    "num = 3.4\n",
    "if num > 0:\n",
    "    print(\"Positive number\")\n",
    "elif num == 0:\n",
    "    print(\"Zero\")\n",
    "else:\n",
    "    print(\"Negative number\")"
   ]
  },
  {
   "cell_type": "code",
   "execution_count": null,
   "metadata": {
    "colab": {
     "base_uri": "https://localhost:8080/"
    },
    "id": "H-CoLeqXVrpM",
    "outputId": "a2832810-0e65-4fdc-bd2c-3b91a8ab21b8"
   },
   "outputs": [
    {
     "name": "stdout",
     "output_type": "stream",
     "text": [
      "s\n",
      "r\n",
      "The end\n"
     ]
    }
   ],
   "source": [
    "list = []\n",
    "for val in \"string\":\n",
    "    if val == \"i\":\n",
    "        break\n",
    "    elif val == \"t\":\n",
    "      continue\n",
    "    list.append(val)\n",
    "    print(val)\n",
    "\n",
    "i=0\n",
    "while i < len(a):\n",
    "  print(list[i])\n",
    "  i += 1\n",
    "print(\"The end\")"
   ]
  },
  {
   "cell_type": "code",
   "execution_count": null,
   "metadata": {
    "colab": {
     "base_uri": "https://localhost:8080/"
    },
    "id": "Yi4RbF0JSk7N",
    "outputId": "3fd08a6d-9a65-4381-98bc-3d0465ce7f47"
   },
   "outputs": [
    {
     "data": {
      "text/plain": [
       "14"
      ]
     },
     "execution_count": 38,
     "metadata": {},
     "output_type": "execute_result"
    }
   ],
   "source": [
    "random.choice(b)"
   ]
  },
  {
   "cell_type": "markdown",
   "metadata": {
    "id": "_a71Uwj6SYAi"
   },
   "source": [
    "9.\tGiven a string \"The King is Dead, Long Live The King\" \n",
    "\n",
    "\n",
    "*   Print the complete string\n",
    "*   Print first character of the string\n",
    "*   Print characters starting from 3rd to 5th\n",
    "*   Print string starting from 3rd character\n",
    "*   Split the words\n"
   ]
  },
  {
   "cell_type": "code",
   "execution_count": null,
   "metadata": {
    "colab": {
     "base_uri": "https://localhost:8080/"
    },
    "id": "nTg4YDPMXPpg",
    "outputId": "61dce293-6fb6-41bd-eebf-2bae72464b42"
   },
   "outputs": [
    {
     "name": "stdout",
     "output_type": "stream",
     "text": [
      "The King is Dead, Long Live The King\n",
      "T\n",
      "e \n",
      "e King is Dead, Long Live The King\n",
      "['The', 'King', 'is', 'Dead,', 'Long', 'Live', 'The', 'King']\n"
     ]
    }
   ],
   "source": [
    "with open('readme.txt','r') as g:\n",
    "    s=g.read()\n",
    "print(s)\n",
    "print(s[0])\n",
    "print(s[2:4])\n",
    "print(s[2:])\n",
    "print(s.split())"
   ]
  },
  {
   "cell_type": "markdown",
   "metadata": {
    "id": "qAqrGHQxTZ6q"
   },
   "source": [
    "10.\tAn array can be created from a list:  Create an array from a list comprising of numbers 1,4,5,8 (treat them as floats).Slice the above array to display first and second elements"
   ]
  },
  {
   "cell_type": "code",
   "execution_count": null,
   "metadata": {
    "colab": {
     "base_uri": "https://localhost:8080/"
    },
    "id": "2wn3_mLnqPsp",
    "outputId": "41bef47d-daf0-455b-c474-4a7a83ccbe45"
   },
   "outputs": [
    {
     "name": "stdout",
     "output_type": "stream",
     "text": [
      "1.0\n",
      "4.0\n"
     ]
    }
   ],
   "source": [
    "list1 = [1,4,5,8]\n",
    "floats = [float(x) for x in list1]\n",
    "print(floats[0])\n",
    "print(floats[1])"
   ]
  },
  {
   "cell_type": "markdown",
   "metadata": {
    "id": "BirN5bE7TejS"
   },
   "source": [
    "11.\tArrays can be multidimensional. Create a two-dimensional array of (1,2,3) and (4,5,6)."
   ]
  },
  {
   "cell_type": "code",
   "execution_count": null,
   "metadata": {
    "colab": {
     "base_uri": "https://localhost:8080/"
    },
    "id": "R4-o_g7Ryx6k",
    "outputId": "497adedb-aba0-4b54-ded7-bf5f81ee202b"
   },
   "outputs": [
    {
     "data": {
      "text/plain": [
       "array([[1, 2, 3],\n",
       "       [4, 5, 6]])"
      ]
     },
     "execution_count": 107,
     "metadata": {},
     "output_type": "execute_result"
    }
   ],
   "source": [
    "list2=np.array([[1,2,3],[4,5,6]])\n",
    "list2"
   ]
  },
  {
   "cell_type": "markdown",
   "metadata": {
    "id": "u5oUMuXmTjZy"
   },
   "source": [
    "12.\tArray slicing works with multiple dimensions in the same way as usual, applying each slice specification as a filter to a specified dimension. Consider two-dimensional array of (1,2,3) and (4,5,6).\n",
    "\n",
    "*   Slice and display the 2nd row."
   ]
  },
  {
   "cell_type": "code",
   "execution_count": null,
   "metadata": {
    "colab": {
     "base_uri": "https://localhost:8080/"
    },
    "id": "mV9g2uVkzMVa",
    "outputId": "c2b78e72-6984-479a-ecf0-ff770f5d24f3"
   },
   "outputs": [
    {
     "name": "stdout",
     "output_type": "stream",
     "text": [
      "[4 5 6]\n"
     ]
    }
   ],
   "source": [
    "print(list2[1,:])"
   ]
  },
  {
   "cell_type": "markdown",
   "metadata": {
    "id": "5tQLD5GZTrsU"
   },
   "source": [
    "* Write code to display as array([2., 5.]) "
   ]
  },
  {
   "cell_type": "code",
   "execution_count": null,
   "metadata": {
    "colab": {
     "base_uri": "https://localhost:8080/"
    },
    "id": "2hujS3wU450A",
    "outputId": "49ed4523-3924-4567-b211-a7d785262998"
   },
   "outputs": [
    {
     "name": "stdout",
     "output_type": "stream",
     "text": [
      "[2.0, 5.0]\n"
     ]
    }
   ],
   "source": [
    "cpslice = [list2[0,1].astype(np.float32)]\n",
    "cpslice.append(list2[1,1].astype(np.float32))\n",
    "print(cpslice)"
   ]
  },
  {
   "cell_type": "markdown",
   "metadata": {
    "id": "UDY7RokPTwz6"
   },
   "source": [
    "\n",
    "*   Find the length of the array.\n"
   ]
  },
  {
   "cell_type": "code",
   "execution_count": null,
   "metadata": {
    "colab": {
     "base_uri": "https://localhost:8080/"
    },
    "id": "diPbeQht6mWF",
    "outputId": "029b3ce4-e259-40a2-e8bc-85ef18f51660"
   },
   "outputs": [
    {
     "data": {
      "text/plain": [
       "6"
      ]
     },
     "execution_count": 109,
     "metadata": {},
     "output_type": "execute_result"
    }
   ],
   "source": [
    "list2.size"
   ]
  },
  {
   "cell_type": "markdown",
   "metadata": {
    "id": "eLMRLzJ_Uo0o"
   },
   "source": [
    "13.\tArrays can be reshaped using tuples that specify new dimensions. Turn a ten-element one-dimensional array into a two-dimensional one whose first axis has five elements and whose second axis has two elements. Obtain the transpose of the array"
   ]
  },
  {
   "cell_type": "code",
   "execution_count": null,
   "metadata": {
    "colab": {
     "base_uri": "https://localhost:8080/"
    },
    "id": "hQLWnaik7Kal",
    "outputId": "99c7e99e-42a4-443e-d094-b203774ecca6"
   },
   "outputs": [
    {
     "data": {
      "text/plain": [
       "array([0, 1, 2, 3, 4, 5, 6, 7, 8, 9])"
      ]
     },
     "execution_count": 9,
     "metadata": {},
     "output_type": "execute_result"
    }
   ],
   "source": [
    "onedtotwod = np.arange(0,10)\n",
    "onedtotwod\n"
   ]
  },
  {
   "cell_type": "code",
   "execution_count": null,
   "metadata": {
    "colab": {
     "base_uri": "https://localhost:8080/"
    },
    "id": "Y40me0998PfF",
    "outputId": "f1df8c44-fe94-4ee1-e8e0-edec568da1ec"
   },
   "outputs": [
    {
     "data": {
      "text/plain": [
       "array([[0, 1, 2, 3, 4],\n",
       "       [5, 6, 7, 8, 9]])"
      ]
     },
     "execution_count": 16,
     "metadata": {},
     "output_type": "execute_result"
    }
   ],
   "source": [
    "d2 = onedtotwod.reshape(2,5)\n",
    "d2"
   ]
  },
  {
   "cell_type": "code",
   "execution_count": null,
   "metadata": {
    "colab": {
     "base_uri": "https://localhost:8080/"
    },
    "id": "XR25KT6aUTRc",
    "outputId": "3c5efeae-eb69-483f-e1da-2f2adc7dc18d"
   },
   "outputs": [
    {
     "data": {
      "text/plain": [
       "array([[0, 5],\n",
       "       [1, 6],\n",
       "       [2, 7],\n",
       "       [3, 8],\n",
       "       [4, 9]])"
      ]
     },
     "execution_count": 17,
     "metadata": {},
     "output_type": "execute_result"
    }
   ],
   "source": [
    "np.transpose(d2)"
   ]
  },
  {
   "cell_type": "markdown",
   "metadata": {
    "id": "RyGbroFoUrby"
   },
   "source": [
    "14.\tCreate an array from a list of 1,2 and 3."
   ]
  },
  {
   "cell_type": "code",
   "execution_count": null,
   "metadata": {
    "colab": {
     "base_uri": "https://localhost:8080/"
    },
    "id": "FaJFN3wy8T_k",
    "outputId": "6421a6fc-c294-4795-c6b1-7e4d6279590e"
   },
   "outputs": [
    {
     "name": "stdout",
     "output_type": "stream",
     "text": [
      "[1, 2, 3]\n",
      "[1 2 3]\n"
     ]
    }
   ],
   "source": [
    "list23 = [1,2,3]\n",
    "print(list23)\n",
    "d = np.array(list23)\n",
    "\n",
    "print(d)"
   ]
  },
  {
   "cell_type": "markdown",
   "metadata": {
    "id": "mP8dya1YUswU"
   },
   "source": [
    "15.\tFill an array [1,2,3] with a single value [9,9,9]. "
   ]
  },
  {
   "cell_type": "code",
   "execution_count": null,
   "metadata": {
    "colab": {
     "base_uri": "https://localhost:8080/"
    },
    "id": "tIycbE9m_9AC",
    "outputId": "eb41c9c1-5fb1-4784-a7ef-ca2ba82148c0"
   },
   "outputs": [
    {
     "name": "stdout",
     "output_type": "stream",
     "text": [
      "[9 9 9]\n"
     ]
    }
   ],
   "source": [
    "temp = np.array([1,2,3])\n",
    "temp[temp>0]=9\n",
    "print(temp)"
   ]
  },
  {
   "cell_type": "markdown",
   "metadata": {
    "id": "bhiMELG2UubE"
   },
   "source": [
    "16.\tSum the elements of array [2,4,5]."
   ]
  },
  {
   "cell_type": "code",
   "execution_count": null,
   "metadata": {
    "colab": {
     "base_uri": "https://localhost:8080/"
    },
    "id": "hKt7yjVgAhL6",
    "outputId": "6fe8dade-4e93-4a44-f04c-e9fdfe5cfaef"
   },
   "outputs": [
    {
     "data": {
      "text/plain": [
       "27"
      ]
     },
     "execution_count": 141,
     "metadata": {},
     "output_type": "execute_result"
    }
   ],
   "source": [
    "np.sum(temp)"
   ]
  },
  {
   "cell_type": "markdown",
   "metadata": {
    "id": "U-sSOpFoUwgS"
   },
   "source": [
    "17.\tGive the products of array [77,74,75]"
   ]
  },
  {
   "cell_type": "code",
   "execution_count": null,
   "metadata": {
    "colab": {
     "base_uri": "https://localhost:8080/"
    },
    "id": "EDJvI5W0Auu-",
    "outputId": "25becad1-ec4b-49d0-db0d-3a366b387e7c"
   },
   "outputs": [
    {
     "data": {
      "text/plain": [
       "729"
      ]
     },
     "execution_count": 142,
     "metadata": {},
     "output_type": "execute_result"
    }
   ],
   "source": [
    "np.prod(temp)"
   ]
  },
  {
   "cell_type": "markdown",
   "metadata": {
    "id": "wbtA6KF4UyAX"
   },
   "source": [
    "18.\tGiven an array [2,1,9,1,2,22,1,1,4,55,6,2,56]. Find mean, variance, max, min, argmin, median, argmax and standard deviation."
   ]
  },
  {
   "cell_type": "code",
   "execution_count": null,
   "metadata": {
    "colab": {
     "base_uri": "https://localhost:8080/"
    },
    "id": "nmGLv9rmA3Us",
    "outputId": "eb259914-2cfb-4a88-ae34-3a57c8b0c3d0"
   },
   "outputs": [
    {
     "data": {
      "text/plain": [
       "12.461538461538462"
      ]
     },
     "execution_count": 146,
     "metadata": {},
     "output_type": "execute_result"
    }
   ],
   "source": [
    "arr18 = np.array([2,1,9,1,2,22,1,1,4,55,6,2,56])\n",
    "arr18.mean()"
   ]
  },
  {
   "cell_type": "code",
   "execution_count": null,
   "metadata": {
    "colab": {
     "base_uri": "https://localhost:8080/"
    },
    "id": "ETKEwFXUBwW1",
    "outputId": "7c353e3b-8446-4bef-f0db-f35a3120d124"
   },
   "outputs": [
    {
     "data": {
      "text/plain": [
       "367.32544378698225"
      ]
     },
     "execution_count": 147,
     "metadata": {},
     "output_type": "execute_result"
    }
   ],
   "source": [
    "arr18.var()"
   ]
  },
  {
   "cell_type": "code",
   "execution_count": null,
   "metadata": {
    "colab": {
     "base_uri": "https://localhost:8080/"
    },
    "id": "wnWafRKVBxVK",
    "outputId": "0c2963ba-9d7d-4a0c-a248-7687ed254d73"
   },
   "outputs": [
    {
     "data": {
      "text/plain": [
       "56"
      ]
     },
     "execution_count": 148,
     "metadata": {},
     "output_type": "execute_result"
    }
   ],
   "source": [
    "arr18.max()"
   ]
  },
  {
   "cell_type": "code",
   "execution_count": null,
   "metadata": {
    "colab": {
     "base_uri": "https://localhost:8080/"
    },
    "id": "oxGom00tByis",
    "outputId": "594e4e7e-4ba0-486c-8412-4f1df7fcdb39"
   },
   "outputs": [
    {
     "data": {
      "text/plain": [
       "1"
      ]
     },
     "execution_count": 149,
     "metadata": {},
     "output_type": "execute_result"
    }
   ],
   "source": [
    "arr18.min()"
   ]
  },
  {
   "cell_type": "code",
   "execution_count": null,
   "metadata": {
    "colab": {
     "base_uri": "https://localhost:8080/"
    },
    "id": "tBEwmGwZBzSo",
    "outputId": "60cfd884-7d60-4118-b006-77982df88aac"
   },
   "outputs": [
    {
     "data": {
      "text/plain": [
       "1"
      ]
     },
     "execution_count": 150,
     "metadata": {},
     "output_type": "execute_result"
    }
   ],
   "source": [
    "arr18.argmin()"
   ]
  },
  {
   "cell_type": "code",
   "execution_count": null,
   "metadata": {
    "colab": {
     "base_uri": "https://localhost:8080/"
    },
    "id": "GoK-AWRGB0Nq",
    "outputId": "56b65d8d-2a9c-49de-aab5-ee9d511a13d3"
   },
   "outputs": [
    {
     "data": {
      "text/plain": [
       "2.0"
      ]
     },
     "execution_count": 151,
     "metadata": {},
     "output_type": "execute_result"
    }
   ],
   "source": [
    "np.median(arr18)"
   ]
  },
  {
   "cell_type": "code",
   "execution_count": null,
   "metadata": {
    "colab": {
     "base_uri": "https://localhost:8080/"
    },
    "id": "jybB18dDB11V",
    "outputId": "ab0c2a18-125d-4175-d3a7-02a507db812c"
   },
   "outputs": [
    {
     "data": {
      "text/plain": [
       "12"
      ]
     },
     "execution_count": 152,
     "metadata": {},
     "output_type": "execute_result"
    }
   ],
   "source": [
    "arr18.argmax()"
   ]
  },
  {
   "cell_type": "code",
   "execution_count": null,
   "metadata": {
    "colab": {
     "base_uri": "https://localhost:8080/"
    },
    "id": "wTGRXvwFB2ef",
    "outputId": "e150f001-cdd7-4675-e6a0-1647e3addbd8"
   },
   "outputs": [
    {
     "data": {
      "text/plain": [
       "19.165736192147232"
      ]
     },
     "execution_count": 153,
     "metadata": {},
     "output_type": "execute_result"
    }
   ],
   "source": [
    "arr18.std()"
   ]
  },
  {
   "cell_type": "markdown",
   "metadata": {
    "id": "NGirNPd-U2fj"
   },
   "source": [
    "19.\tExtract unique elements from an array: [1, 1, 4, 5, 5, 5, 7] and sort it."
   ]
  },
  {
   "cell_type": "code",
   "execution_count": null,
   "metadata": {
    "colab": {
     "base_uri": "https://localhost:8080/"
    },
    "id": "GdJTQajzB_1d",
    "outputId": "2c64d07c-49b0-409f-897e-dab0f212ee78"
   },
   "outputs": [
    {
     "data": {
      "text/plain": [
       "[1, 4, 5, 7]"
      ]
     },
     "execution_count": 156,
     "metadata": {},
     "output_type": "execute_result"
    }
   ],
   "source": [
    "arr = np.array([1, 1, 4, 5, 5, 5, 7])\n",
    "set1 = set(arr)\n",
    "sorted(set1)"
   ]
  },
  {
   "cell_type": "markdown",
   "metadata": {
    "id": "YVH-5fc6U3MP"
   },
   "source": [
    "20.\tFind dot product of two arrays [1, 2, 3]and [0, 1, 1]. "
   ]
  },
  {
   "cell_type": "code",
   "execution_count": null,
   "metadata": {
    "colab": {
     "base_uri": "https://localhost:8080/"
    },
    "id": "grJJNeX_CZYL",
    "outputId": "e1dd11a1-4b1e-4613-d450-fa7429d9d62a"
   },
   "outputs": [
    {
     "data": {
      "text/plain": [
       "5"
      ]
     },
     "execution_count": 158,
     "metadata": {},
     "output_type": "execute_result"
    }
   ],
   "source": [
    "t1 = np.array([1, 2, 3])\n",
    "t2 = np.array([0, 1, 1])\n",
    "np.dot(t1, t2, out=None)"
   ]
  },
  {
   "cell_type": "markdown",
   "metadata": {
    "id": "Rvjey40_U6h1"
   },
   "source": [
    "21.\tFind the eigenvalues and eigenvectors of matrix A."
   ]
  },
  {
   "cell_type": "code",
   "execution_count": null,
   "metadata": {
    "colab": {
     "base_uri": "https://localhost:8080/"
    },
    "id": "xO9pJjM2C4BZ",
    "outputId": "bbbbcb3d-46c9-43f0-bb3b-824d3b0c56bc"
   },
   "outputs": [
    {
     "name": "stdout",
     "output_type": "stream",
     "text": [
      "[-1. -2.]\n",
      "[[0.9701425  0.9486833 ]\n",
      " [0.24253563 0.31622777]]\n"
     ]
    }
   ],
   "source": [
    "t21 = np.array([[2,-12],\n",
    "               [1,-5]])\n",
    "w,v=np.linalg.eig(t21)\n",
    "print(w)\n",
    "print(v)"
   ]
  }
 ],
 "metadata": {
  "colab": {
   "provenance": []
  },
  "kernelspec": {
   "display_name": "Python 3 (ipykernel)",
   "language": "python",
   "name": "python3"
  },
  "language_info": {
   "codemirror_mode": {
    "name": "ipython",
    "version": 3
   },
   "file_extension": ".py",
   "mimetype": "text/x-python",
   "name": "python",
   "nbconvert_exporter": "python",
   "pygments_lexer": "ipython3",
   "version": "3.9.12"
  }
 },
 "nbformat": 4,
 "nbformat_minor": 1
}
